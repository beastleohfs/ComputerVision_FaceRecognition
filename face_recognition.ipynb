{
 "cells": [
  {
   "cell_type": "code",
   "execution_count": 1,
   "metadata": {},
   "outputs": [],
   "source": [
    "import face_recognition"
   ]
  },
  {
   "cell_type": "code",
   "execution_count": 2,
   "metadata": {},
   "outputs": [],
   "source": [
    "image1=face_recognition.load_image_file(\"person_1.jpg\")\n",
    "image2=face_recognition.load_image_file(\"person_2.jpg\")\n",
    "image3=face_recognition.load_image_file(\"person_3.jpg\")"
   ]
  },
  {
   "cell_type": "code",
   "execution_count": 3,
   "metadata": {},
   "outputs": [],
   "source": [
    "face_encoding1=face_recognition.face_encodings(image1)[0]\n",
    "face_encoding2=face_recognition.face_encodings(image2)[0]\n",
    "face_encoding3=face_recognition.face_encodings(image3)[0]"
   ]
  },
  {
   "cell_type": "code",
   "execution_count": 4,
   "metadata": {},
   "outputs": [],
   "source": [
    "known_face_encoding=[face_encoding1,face_encoding2,face_encoding3]"
   ]
  },
  {
   "cell_type": "code",
   "execution_count": 12,
   "metadata": {},
   "outputs": [],
   "source": [
    "test=face_recognition.load_image_file(\"unknown_7.jpg\")"
   ]
  },
  {
   "cell_type": "code",
   "execution_count": 16,
   "metadata": {},
   "outputs": [],
   "source": [
    "face_locations=face_recognition.face_locations(test,number_of_times_to_upsample=2)"
   ]
  },
  {
   "cell_type": "code",
   "execution_count": 17,
   "metadata": {},
   "outputs": [],
   "source": [
    "unknown_face_encodings=face_recognition.face_encodings(test,known_face_locations=face_locations)"
   ]
  },
  {
   "cell_type": "code",
   "execution_count": 18,
   "metadata": {},
   "outputs": [
    {
     "name": "stdout",
     "output_type": "stream",
     "text": [
      "Found person 2 in photo\n"
     ]
    }
   ],
   "source": [
    "for unknown_face_encoding in unknown_face_encodings:\n",
    "    result=face_recognition.compare_faces(known_face_encoding,unknown_face_encoding)\n",
    "    name=\"Unknown\"\n",
    "    if result[0]:\n",
    "        name=\"person 1\"\n",
    "    elif result[1]:\n",
    "        name=\"person 2\"\n",
    "    elif result[2]:\n",
    "        name=\"person 3\"\n",
    "        \n",
    "    print(\"Found {} in photo\".format(name))    "
   ]
  },
  {
   "cell_type": "code",
   "execution_count": null,
   "metadata": {},
   "outputs": [],
   "source": []
  },
  {
   "cell_type": "code",
   "execution_count": null,
   "metadata": {},
   "outputs": [],
   "source": []
  }
 ],
 "metadata": {
  "kernelspec": {
   "display_name": "Python 3",
   "language": "python",
   "name": "python3"
  },
  "language_info": {
   "codemirror_mode": {
    "name": "ipython",
    "version": 3
   },
   "file_extension": ".py",
   "mimetype": "text/x-python",
   "name": "python",
   "nbconvert_exporter": "python",
   "pygments_lexer": "ipython3",
   "version": "3.8.5"
  }
 },
 "nbformat": 4,
 "nbformat_minor": 4
}
